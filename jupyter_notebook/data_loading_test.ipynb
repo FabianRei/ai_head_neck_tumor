{
 "cells": [
  {
   "cell_type": "code",
   "execution_count": 1,
   "metadata": {},
   "outputs": [],
   "source": [
    "import sys\n",
    "sys.path.append('../')\n",
    "\n",
    "%load_ext autoreload\n",
    "%autoreload 2\n",
    "%matplotlib inline"
   ]
  },
  {
   "cell_type": "code",
   "execution_count": 2,
   "metadata": {},
   "outputs": [],
   "source": [
    "\n",
    "import pandas as pd\n",
    "import numpy as np\n",
    "import torch\n",
    "import torchio as tio\n",
    "from matplotlib import pyplot as plt\n",
    "from pathlib import Path\n",
    "from tqdm.autonotebook import tqdm\n",
    "import zarr\n",
    "from nibabel import ecat\n",
    "\n",
    "from data_loading.data_set import EcatDFDataset, get_default_tio_transform"
   ]
  },
  {
   "cell_type": "code",
   "execution_count": 36,
   "metadata": {},
   "outputs": [],
   "source": [
    "path_df = Path('/home/fabian/projects/phd/ai_radiation_therapy/ai_head_neck_tumor/data/clinical_data_has_CT_PT_21feb23.feather')\n",
    "df = pd.read_feather(path_df)\n",
    "data_path = Path(df.iloc[0].blue_data_path)\n",
    "\n"
   ]
  },
  {
   "cell_type": "code",
   "execution_count": 104,
   "metadata": {},
   "outputs": [
    {
     "name": "stdout",
     "output_type": "stream",
     "text": [
      "torch.Size([1, 128, 128, 140]) tensor(-999.8713, dtype=torch.float64) tensor(2976.0000, dtype=torch.float64)\n"
     ]
    }
   ],
   "source": [
    "ds = EcatDFDataset(df, mode='full', cv_split=0,  img_columns=['CT_img_path'])\n",
    "x, y = ds[10]\n",
    "print(x.shape, x.min(), x.max())\n",
    "\n",
    "# shapes = []\n",
    "# for i in tqdm(range(len(ds))):\n",
    "#     x, y = ds[i]\n",
    "#     shapes.append(x.shape)\n",
    "   \n",
    "# shapes = [tuple(s) for s in shapes] \n",
    "# df['shapes'] = shapes\n",
    "# df.to_feather(path_df)\n",
    "\n",
    "# unequals = []\n",
    "# for i in tqdm(range(len(ds))):\n",
    "#     x, y = ds[i]\n",
    "#     if not (x[1] == x[3]).all():\n",
    "#         print(i, 'not equal')\n",
    "#         unequals.append(i)"
   ]
  },
  {
   "attachments": {},
   "cell_type": "markdown",
   "metadata": {},
   "source": [
    "# Save ecat as zarr arrays"
   ]
  },
  {
   "cell_type": "code",
   "execution_count": 79,
   "metadata": {},
   "outputs": [],
   "source": [
    "store = zarr.ZipStore(data_path.parent / 'cnn_data.zarr.zip', mode='w')\n",
    "# Create a Zarr group to hold the data\n",
    "root = zarr.group(store=store, overwrite=True)"
   ]
  },
  {
   "cell_type": "code",
   "execution_count": 40,
   "metadata": {},
   "outputs": [],
   "source": [
    "def read_ecat(img_path):\n",
    "    img = ecat.load(img_path)\n",
    "    data = np.transpose(img.get_fdata(), [3, 0, 1, 2])\n",
    "    return data"
   ]
  },
  {
   "cell_type": "code",
   "execution_count": 80,
   "metadata": {},
   "outputs": [
    {
     "data": {
      "application/vnd.jupyter.widget-view+json": {
       "model_id": "0f8e5d5136434960ad6ee27a5389a20a",
       "version_major": 2,
       "version_minor": 0
      },
      "text/plain": [
       "  0%|          | 0/1035 [00:00<?, ?it/s]"
      ]
     },
     "metadata": {},
     "output_type": "display_data"
    }
   ],
   "source": [
    "store = zarr.ZipStore('/home/fabian/projects/phd/ai_radiation_therapy/data_preprocessed/cnn_data.zarr.zip', mode='w')\n",
    "# Create a Zarr group to hold the data\n",
    "root = zarr.group(store=store, overwrite=True)\n",
    "\n",
    "for idx, row in tqdm(df.iterrows(), total=len(df)):\n",
    "    for col in ['CT_img_path', 'CT_roi_path', 'PT_img_path', 'PT_roi_path']:\n",
    "        img_name = row[col]\n",
    "        # print(data_path/ img_name)\n",
    "        data = read_ecat(data_path / img_name)\n",
    "        chunk_size = (1, 32, 32, data.shape[-1])\n",
    "        root.array(img_name, data=data, chunks=chunk_size, compressor=zarr.Blosc(cname='zstd', clevel=3, shuffle=2), order='C')\n",
    "        \n",
    "store.close()"
   ]
  },
  {
   "cell_type": "code",
   "execution_count": 97,
   "metadata": {},
   "outputs": [],
   "source": [
    "test_root = zarr.open('/home/fabian/projects/phd/ai_radiation_therapy/data_preprocessed/cnn_data.zarr.zip')\n",
    "test = np.array(test_root[df['CT_img_path'].iloc[10]])"
   ]
  },
  {
   "attachments": {},
   "cell_type": "markdown",
   "metadata": {},
   "source": [
    "# Examine transforms"
   ]
  },
  {
   "cell_type": "code",
   "execution_count": 109,
   "metadata": {},
   "outputs": [],
   "source": [
    "transform = tio.Compose([\n",
    "        tio.RescaleIntensity(out_min_max=(0, 255), percentiles=(0.5, 99.5)),\n",
    "        tio.CropOrPad((128, 128, 140)),\n",
    "        tio.RandomAffine(scales=0.1, degrees=10),\n",
    "        tio.RandomElasticDeformation()\n",
    "        ])"
   ]
  }
 ],
 "metadata": {
  "kernelspec": {
   "display_name": "torchenv",
   "language": "python",
   "name": "python3"
  },
  "language_info": {
   "codemirror_mode": {
    "name": "ipython",
    "version": 3
   },
   "file_extension": ".py",
   "mimetype": "text/x-python",
   "name": "python",
   "nbconvert_exporter": "python",
   "pygments_lexer": "ipython3",
   "version": "3.9.13"
  },
  "orig_nbformat": 4,
  "vscode": {
   "interpreter": {
    "hash": "b1736794d1f0dea44bc7d2f6bde97fc923beb10df2cf48968162009902dbb208"
   }
  }
 },
 "nbformat": 4,
 "nbformat_minor": 2
}
